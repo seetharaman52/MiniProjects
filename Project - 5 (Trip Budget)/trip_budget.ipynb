{
 "cells": [
  {
   "cell_type": "code",
   "metadata": {
    "tags": [],
    "cell_id": "765c658a-3aa8-4120-8953-b22442bdbdc2",
    "deepnote_to_be_reexecuted": false,
    "source_hash": "a417e03f",
    "execution_start": 1657899349668,
    "execution_millis": 42,
    "deepnote_cell_type": "code",
    "deepnote_cell_height": 603
   },
   "source": "# Importing Libraries \n# Assigning the datset to a variable using pandas\nimport warnings\nwarnings.filterwarnings(\"ignore\")\nimport pandas as pd\nimport matplotlib.pyplot as plt\ndf = pd.read_csv(\"/work/budget.csv\")\ndf",
   "execution_count": 17,
   "outputs": [
    {
     "output_type": "execute_result",
     "execution_count": 17,
     "data": {
      "application/vnd.deepnote.dataframe.v3+json": {
       "column_count": 3,
       "row_count": 7,
       "columns": [
        {
         "name": "distance",
         "dtype": "int64",
         "stats": {
          "unique_count": 7,
          "nan_count": 0,
          "min": "90",
          "max": "142",
          "histogram": [
           {
            "bin_start": 90,
            "bin_end": 95.2,
            "count": 1
           },
           {
            "bin_start": 95.2,
            "bin_end": 100.4,
            "count": 0
           },
           {
            "bin_start": 100.4,
            "bin_end": 105.6,
            "count": 0
           },
           {
            "bin_start": 105.6,
            "bin_end": 110.8,
            "count": 0
           },
           {
            "bin_start": 110.8,
            "bin_end": 116,
            "count": 0
           },
           {
            "bin_start": 116,
            "bin_end": 121.2,
            "count": 1
           },
           {
            "bin_start": 121.2,
            "bin_end": 126.4,
            "count": 1
           },
           {
            "bin_start": 126.4,
            "bin_end": 131.6,
            "count": 1
           },
           {
            "bin_start": 131.6,
            "bin_end": 136.8,
            "count": 1
           },
           {
            "bin_start": 136.8,
            "bin_end": 142,
            "count": 2
           }
          ]
         }
        },
        {
         "name": "days",
         "dtype": "int64",
         "stats": {
          "unique_count": 5,
          "nan_count": 0,
          "min": "2",
          "max": "8",
          "histogram": [
           {
            "bin_start": 2,
            "bin_end": 2.6,
            "count": 1
           },
           {
            "bin_start": 2.6,
            "bin_end": 3.2,
            "count": 1
           },
           {
            "bin_start": 3.2,
            "bin_end": 3.8,
            "count": 0
           },
           {
            "bin_start": 3.8,
            "bin_end": 4.4,
            "count": 0
           },
           {
            "bin_start": 4.4,
            "bin_end": 5,
            "count": 0
           },
           {
            "bin_start": 5,
            "bin_end": 5.6,
            "count": 1
           },
           {
            "bin_start": 5.6,
            "bin_end": 6.2,
            "count": 2
           },
           {
            "bin_start": 6.2,
            "bin_end": 6.8,
            "count": 0
           },
           {
            "bin_start": 6.8,
            "bin_end": 7.3999999999999995,
            "count": 0
           },
           {
            "bin_start": 7.3999999999999995,
            "bin_end": 8,
            "count": 2
           }
          ]
         }
        },
        {
         "name": "budget",
         "dtype": "int64",
         "stats": {
          "unique_count": 6,
          "nan_count": 0,
          "min": "3000",
          "max": "8000",
          "histogram": [
           {
            "bin_start": 3000,
            "bin_end": 3500,
            "count": 1
           },
           {
            "bin_start": 3500,
            "bin_end": 4000,
            "count": 1
           },
           {
            "bin_start": 4000,
            "bin_end": 4500,
            "count": 1
           },
           {
            "bin_start": 4500,
            "bin_end": 5000,
            "count": 0
           },
           {
            "bin_start": 5000,
            "bin_end": 5500,
            "count": 1
           },
           {
            "bin_start": 5500,
            "bin_end": 6000,
            "count": 0
           },
           {
            "bin_start": 6000,
            "bin_end": 6500,
            "count": 2
           },
           {
            "bin_start": 6500,
            "bin_end": 7000,
            "count": 0
           },
           {
            "bin_start": 7000,
            "bin_end": 7500,
            "count": 0
           },
           {
            "bin_start": 7500,
            "bin_end": 8000,
            "count": 1
           }
          ]
         }
        },
        {
         "name": "_deepnote_index_column",
         "dtype": "int64"
        }
       ],
       "rows": [
        {
         "distance": 90,
         "days": 2,
         "budget": 3000,
         "_deepnote_index_column": 0
        },
        {
         "distance": 120,
         "days": 3,
         "budget": 3800,
         "_deepnote_index_column": 1
        },
        {
         "distance": 122,
         "days": 5,
         "budget": 4000,
         "_deepnote_index_column": 2
        },
        {
         "distance": 130,
         "days": 6,
         "budget": 5000,
         "_deepnote_index_column": 3
        },
        {
         "distance": 133,
         "days": 8,
         "budget": 6000,
         "_deepnote_index_column": 4
        },
        {
         "distance": 140,
         "days": 8,
         "budget": 8000,
         "_deepnote_index_column": 5
        },
        {
         "distance": 142,
         "days": 6,
         "budget": 6000,
         "_deepnote_index_column": 6
        }
       ]
      },
      "text/plain": "   distance  days  budget\n0        90     2    3000\n1       120     3    3800\n2       122     5    4000\n3       130     6    5000\n4       133     8    6000\n5       140     8    8000\n6       142     6    6000",
      "text/html": "<div>\n<style scoped>\n    .dataframe tbody tr th:only-of-type {\n        vertical-align: middle;\n    }\n\n    .dataframe tbody tr th {\n        vertical-align: top;\n    }\n\n    .dataframe thead th {\n        text-align: right;\n    }\n</style>\n<table border=\"1\" class=\"dataframe\">\n  <thead>\n    <tr style=\"text-align: right;\">\n      <th></th>\n      <th>distance</th>\n      <th>days</th>\n      <th>budget</th>\n    </tr>\n  </thead>\n  <tbody>\n    <tr>\n      <th>0</th>\n      <td>90</td>\n      <td>2</td>\n      <td>3000</td>\n    </tr>\n    <tr>\n      <th>1</th>\n      <td>120</td>\n      <td>3</td>\n      <td>3800</td>\n    </tr>\n    <tr>\n      <th>2</th>\n      <td>122</td>\n      <td>5</td>\n      <td>4000</td>\n    </tr>\n    <tr>\n      <th>3</th>\n      <td>130</td>\n      <td>6</td>\n      <td>5000</td>\n    </tr>\n    <tr>\n      <th>4</th>\n      <td>133</td>\n      <td>8</td>\n      <td>6000</td>\n    </tr>\n    <tr>\n      <th>5</th>\n      <td>140</td>\n      <td>8</td>\n      <td>8000</td>\n    </tr>\n    <tr>\n      <th>6</th>\n      <td>142</td>\n      <td>6</td>\n      <td>6000</td>\n    </tr>\n  </tbody>\n</table>\n</div>"
     },
     "metadata": {}
    }
   ]
  },
  {
   "cell_type": "code",
   "source": "#Checking if there are any null values\ndf.isnull()",
   "metadata": {
    "cell_id": "a21e2a3ad59d41d0b5cded7a9a1381a2",
    "tags": [],
    "deepnote_to_be_reexecuted": false,
    "source_hash": "ff9c6d66",
    "execution_start": 1657899403744,
    "execution_millis": 10,
    "deepnote_cell_type": "code",
    "deepnote_cell_height": 495
   },
   "outputs": [
    {
     "output_type": "execute_result",
     "execution_count": 19,
     "data": {
      "application/vnd.deepnote.dataframe.v3+json": {
       "column_count": 3,
       "row_count": 7,
       "columns": [
        {
         "name": "distance",
         "dtype": "bool",
         "stats": {
          "unique_count": 1,
          "nan_count": 0,
          "categories": [
           {
            "name": "False",
            "count": 7
           }
          ]
         }
        },
        {
         "name": "days",
         "dtype": "bool",
         "stats": {
          "unique_count": 1,
          "nan_count": 0,
          "categories": [
           {
            "name": "False",
            "count": 7
           }
          ]
         }
        },
        {
         "name": "budget",
         "dtype": "bool",
         "stats": {
          "unique_count": 1,
          "nan_count": 0,
          "categories": [
           {
            "name": "False",
            "count": 7
           }
          ]
         }
        },
        {
         "name": "_deepnote_index_column",
         "dtype": "int64"
        }
       ],
       "rows": [
        {
         "distance": false,
         "days": false,
         "budget": false,
         "_deepnote_index_column": 0
        },
        {
         "distance": false,
         "days": false,
         "budget": false,
         "_deepnote_index_column": 1
        },
        {
         "distance": false,
         "days": false,
         "budget": false,
         "_deepnote_index_column": 2
        },
        {
         "distance": false,
         "days": false,
         "budget": false,
         "_deepnote_index_column": 3
        },
        {
         "distance": false,
         "days": false,
         "budget": false,
         "_deepnote_index_column": 4
        },
        {
         "distance": false,
         "days": false,
         "budget": false,
         "_deepnote_index_column": 5
        },
        {
         "distance": false,
         "days": false,
         "budget": false,
         "_deepnote_index_column": 6
        }
       ]
      },
      "text/plain": "   distance   days  budget\n0     False  False   False\n1     False  False   False\n2     False  False   False\n3     False  False   False\n4     False  False   False\n5     False  False   False\n6     False  False   False",
      "text/html": "<div>\n<style scoped>\n    .dataframe tbody tr th:only-of-type {\n        vertical-align: middle;\n    }\n\n    .dataframe tbody tr th {\n        vertical-align: top;\n    }\n\n    .dataframe thead th {\n        text-align: right;\n    }\n</style>\n<table border=\"1\" class=\"dataframe\">\n  <thead>\n    <tr style=\"text-align: right;\">\n      <th></th>\n      <th>distance</th>\n      <th>days</th>\n      <th>budget</th>\n    </tr>\n  </thead>\n  <tbody>\n    <tr>\n      <th>0</th>\n      <td>False</td>\n      <td>False</td>\n      <td>False</td>\n    </tr>\n    <tr>\n      <th>1</th>\n      <td>False</td>\n      <td>False</td>\n      <td>False</td>\n    </tr>\n    <tr>\n      <th>2</th>\n      <td>False</td>\n      <td>False</td>\n      <td>False</td>\n    </tr>\n    <tr>\n      <th>3</th>\n      <td>False</td>\n      <td>False</td>\n      <td>False</td>\n    </tr>\n    <tr>\n      <th>4</th>\n      <td>False</td>\n      <td>False</td>\n      <td>False</td>\n    </tr>\n    <tr>\n      <th>5</th>\n      <td>False</td>\n      <td>False</td>\n      <td>False</td>\n    </tr>\n    <tr>\n      <th>6</th>\n      <td>False</td>\n      <td>False</td>\n      <td>False</td>\n    </tr>\n  </tbody>\n</table>\n</div>"
     },
     "metadata": {}
    }
   ],
   "execution_count": 19
  },
  {
   "cell_type": "code",
   "source": "df.isnull().count()",
   "metadata": {
    "cell_id": "b52330eb780a4211a849c2b6a5d6fd89",
    "tags": [],
    "owner_user_id": "cc02b71c-7c5c-4143-b8f0-2cc53953d9ea",
    "deepnote_to_be_reexecuted": false,
    "source_hash": "7f3c45e8",
    "execution_start": 1657899421572,
    "execution_millis": 20,
    "deepnote_cell_type": "code",
    "deepnote_cell_height": 66
   },
   "outputs": [
    {
     "output_type": "execute_result",
     "execution_count": 20,
     "data": {
      "text/plain": "distance    7\ndays        7\nbudget      7\ndtype: int64"
     },
     "metadata": {}
    }
   ],
   "execution_count": 20
  },
  {
   "cell_type": "code",
   "source": "#Dropping budget column as we need distance and days to predict the budget(y - dependent variable)\nx = df.drop('budget',axis = 1)\nx",
   "metadata": {
    "cell_id": "31e5ba6d8a0548a29dcc9729f63e1723",
    "tags": [],
    "deepnote_to_be_reexecuted": false,
    "source_hash": "edb9a13e",
    "execution_start": 1657898758863,
    "execution_millis": 56,
    "deepnote_cell_type": "code",
    "deepnote_cell_height": 513
   },
   "outputs": [
    {
     "output_type": "execute_result",
     "execution_count": 2,
     "data": {
      "application/vnd.deepnote.dataframe.v3+json": {
       "column_count": 2,
       "row_count": 7,
       "columns": [
        {
         "name": "distance",
         "dtype": "int64",
         "stats": {
          "unique_count": 7,
          "nan_count": 0,
          "min": "90",
          "max": "142",
          "histogram": [
           {
            "bin_start": 90,
            "bin_end": 95.2,
            "count": 1
           },
           {
            "bin_start": 95.2,
            "bin_end": 100.4,
            "count": 0
           },
           {
            "bin_start": 100.4,
            "bin_end": 105.6,
            "count": 0
           },
           {
            "bin_start": 105.6,
            "bin_end": 110.8,
            "count": 0
           },
           {
            "bin_start": 110.8,
            "bin_end": 116,
            "count": 0
           },
           {
            "bin_start": 116,
            "bin_end": 121.2,
            "count": 1
           },
           {
            "bin_start": 121.2,
            "bin_end": 126.4,
            "count": 1
           },
           {
            "bin_start": 126.4,
            "bin_end": 131.6,
            "count": 1
           },
           {
            "bin_start": 131.6,
            "bin_end": 136.8,
            "count": 1
           },
           {
            "bin_start": 136.8,
            "bin_end": 142,
            "count": 2
           }
          ]
         }
        },
        {
         "name": "days",
         "dtype": "int64",
         "stats": {
          "unique_count": 5,
          "nan_count": 0,
          "min": "2",
          "max": "8",
          "histogram": [
           {
            "bin_start": 2,
            "bin_end": 2.6,
            "count": 1
           },
           {
            "bin_start": 2.6,
            "bin_end": 3.2,
            "count": 1
           },
           {
            "bin_start": 3.2,
            "bin_end": 3.8,
            "count": 0
           },
           {
            "bin_start": 3.8,
            "bin_end": 4.4,
            "count": 0
           },
           {
            "bin_start": 4.4,
            "bin_end": 5,
            "count": 0
           },
           {
            "bin_start": 5,
            "bin_end": 5.6,
            "count": 1
           },
           {
            "bin_start": 5.6,
            "bin_end": 6.2,
            "count": 2
           },
           {
            "bin_start": 6.2,
            "bin_end": 6.8,
            "count": 0
           },
           {
            "bin_start": 6.8,
            "bin_end": 7.3999999999999995,
            "count": 0
           },
           {
            "bin_start": 7.3999999999999995,
            "bin_end": 8,
            "count": 2
           }
          ]
         }
        },
        {
         "name": "_deepnote_index_column",
         "dtype": "int64"
        }
       ],
       "rows": [
        {
         "distance": 90,
         "days": 2,
         "_deepnote_index_column": 0
        },
        {
         "distance": 120,
         "days": 3,
         "_deepnote_index_column": 1
        },
        {
         "distance": 122,
         "days": 5,
         "_deepnote_index_column": 2
        },
        {
         "distance": 130,
         "days": 6,
         "_deepnote_index_column": 3
        },
        {
         "distance": 133,
         "days": 8,
         "_deepnote_index_column": 4
        },
        {
         "distance": 140,
         "days": 8,
         "_deepnote_index_column": 5
        },
        {
         "distance": 142,
         "days": 6,
         "_deepnote_index_column": 6
        }
       ]
      },
      "text/plain": "   distance  days\n0        90     2\n1       120     3\n2       122     5\n3       130     6\n4       133     8\n5       140     8\n6       142     6",
      "text/html": "<div>\n<style scoped>\n    .dataframe tbody tr th:only-of-type {\n        vertical-align: middle;\n    }\n\n    .dataframe tbody tr th {\n        vertical-align: top;\n    }\n\n    .dataframe thead th {\n        text-align: right;\n    }\n</style>\n<table border=\"1\" class=\"dataframe\">\n  <thead>\n    <tr style=\"text-align: right;\">\n      <th></th>\n      <th>distance</th>\n      <th>days</th>\n    </tr>\n  </thead>\n  <tbody>\n    <tr>\n      <th>0</th>\n      <td>90</td>\n      <td>2</td>\n    </tr>\n    <tr>\n      <th>1</th>\n      <td>120</td>\n      <td>3</td>\n    </tr>\n    <tr>\n      <th>2</th>\n      <td>122</td>\n      <td>5</td>\n    </tr>\n    <tr>\n      <th>3</th>\n      <td>130</td>\n      <td>6</td>\n    </tr>\n    <tr>\n      <th>4</th>\n      <td>133</td>\n      <td>8</td>\n    </tr>\n    <tr>\n      <th>5</th>\n      <td>140</td>\n      <td>8</td>\n    </tr>\n    <tr>\n      <th>6</th>\n      <td>142</td>\n      <td>6</td>\n    </tr>\n  </tbody>\n</table>\n</div>"
     },
     "metadata": {}
    }
   ],
   "execution_count": 2
  },
  {
   "cell_type": "code",
   "source": "#Assigning budget column to y variable\ny = df['budget']\ny",
   "metadata": {
    "cell_id": "48c9a32bb0a646189771de5c217cb04f",
    "tags": [],
    "deepnote_to_be_reexecuted": false,
    "source_hash": "eeb0c224",
    "execution_start": 1657898758937,
    "execution_millis": 8,
    "deepnote_cell_type": "code",
    "deepnote_cell_height": 288.53125,
    "deepnote_output_heights": [
     155.546875
    ]
   },
   "outputs": [
    {
     "output_type": "execute_result",
     "execution_count": 3,
     "data": {
      "text/plain": "0    3000\n1    3800\n2    4000\n3    5000\n4    6000\n5    8000\n6    6000\nName: budget, dtype: int64"
     },
     "metadata": {}
    }
   ],
   "execution_count": 3
  },
  {
   "cell_type": "code",
   "source": "#importing regression libraries to predict the budget\nfrom sklearn import linear_model\nreg = linear_model.LinearRegression()\nreg.fit(x,y)",
   "metadata": {
    "cell_id": "ed9b443e503f459c81abf50b14324cd8",
    "tags": [],
    "deepnote_to_be_reexecuted": false,
    "source_hash": "974fc481",
    "execution_start": 1657898759001,
    "execution_millis": 2425,
    "deepnote_cell_type": "code",
    "deepnote_cell_height": 211.34375,
    "deepnote_output_heights": [
     60.359375
    ]
   },
   "outputs": [
    {
     "output_type": "execute_result",
     "execution_count": 4,
     "data": {
      "text/plain": "LinearRegression()",
      "text/html": "<style>#sk-container-id-1 {color: black;background-color: white;}#sk-container-id-1 pre{padding: 0;}#sk-container-id-1 div.sk-toggleable {background-color: white;}#sk-container-id-1 label.sk-toggleable__label {cursor: pointer;display: block;width: 100%;margin-bottom: 0;padding: 0.3em;box-sizing: border-box;text-align: center;}#sk-container-id-1 label.sk-toggleable__label-arrow:before {content: \"▸\";float: left;margin-right: 0.25em;color: #696969;}#sk-container-id-1 label.sk-toggleable__label-arrow:hover:before {color: black;}#sk-container-id-1 div.sk-estimator:hover label.sk-toggleable__label-arrow:before {color: black;}#sk-container-id-1 div.sk-toggleable__content {max-height: 0;max-width: 0;overflow: hidden;text-align: left;background-color: #f0f8ff;}#sk-container-id-1 div.sk-toggleable__content pre {margin: 0.2em;color: black;border-radius: 0.25em;background-color: #f0f8ff;}#sk-container-id-1 input.sk-toggleable__control:checked~div.sk-toggleable__content {max-height: 200px;max-width: 100%;overflow: auto;}#sk-container-id-1 input.sk-toggleable__control:checked~label.sk-toggleable__label-arrow:before {content: \"▾\";}#sk-container-id-1 div.sk-estimator input.sk-toggleable__control:checked~label.sk-toggleable__label {background-color: #d4ebff;}#sk-container-id-1 div.sk-label input.sk-toggleable__control:checked~label.sk-toggleable__label {background-color: #d4ebff;}#sk-container-id-1 input.sk-hidden--visually {border: 0;clip: rect(1px 1px 1px 1px);clip: rect(1px, 1px, 1px, 1px);height: 1px;margin: -1px;overflow: hidden;padding: 0;position: absolute;width: 1px;}#sk-container-id-1 div.sk-estimator {font-family: monospace;background-color: #f0f8ff;border: 1px dotted black;border-radius: 0.25em;box-sizing: border-box;margin-bottom: 0.5em;}#sk-container-id-1 div.sk-estimator:hover {background-color: #d4ebff;}#sk-container-id-1 div.sk-parallel-item::after {content: \"\";width: 100%;border-bottom: 1px solid gray;flex-grow: 1;}#sk-container-id-1 div.sk-label:hover label.sk-toggleable__label {background-color: #d4ebff;}#sk-container-id-1 div.sk-serial::before {content: \"\";position: absolute;border-left: 1px solid gray;box-sizing: border-box;top: 0;bottom: 0;left: 50%;z-index: 0;}#sk-container-id-1 div.sk-serial {display: flex;flex-direction: column;align-items: center;background-color: white;padding-right: 0.2em;padding-left: 0.2em;position: relative;}#sk-container-id-1 div.sk-item {position: relative;z-index: 1;}#sk-container-id-1 div.sk-parallel {display: flex;align-items: stretch;justify-content: center;background-color: white;position: relative;}#sk-container-id-1 div.sk-item::before, #sk-container-id-1 div.sk-parallel-item::before {content: \"\";position: absolute;border-left: 1px solid gray;box-sizing: border-box;top: 0;bottom: 0;left: 50%;z-index: -1;}#sk-container-id-1 div.sk-parallel-item {display: flex;flex-direction: column;z-index: 1;position: relative;background-color: white;}#sk-container-id-1 div.sk-parallel-item:first-child::after {align-self: flex-end;width: 50%;}#sk-container-id-1 div.sk-parallel-item:last-child::after {align-self: flex-start;width: 50%;}#sk-container-id-1 div.sk-parallel-item:only-child::after {width: 0;}#sk-container-id-1 div.sk-dashed-wrapped {border: 1px dashed gray;margin: 0 0.4em 0.5em 0.4em;box-sizing: border-box;padding-bottom: 0.4em;background-color: white;}#sk-container-id-1 div.sk-label label {font-family: monospace;font-weight: bold;display: inline-block;line-height: 1.2em;}#sk-container-id-1 div.sk-label-container {text-align: center;}#sk-container-id-1 div.sk-container {/* jupyter's `normalize.less` sets `[hidden] { display: none; }` but bootstrap.min.css set `[hidden] { display: none !important; }` so we also need the `!important` here to be able to override the default hidden behavior on the sphinx rendered scikit-learn.org. See: https://github.com/scikit-learn/scikit-learn/issues/21755 */display: inline-block !important;position: relative;}#sk-container-id-1 div.sk-text-repr-fallback {display: none;}</style><div id=\"sk-container-id-1\" class=\"sk-top-container\"><div class=\"sk-text-repr-fallback\"><pre>LinearRegression()</pre><b>In a Jupyter environment, please rerun this cell to show the HTML representation or trust the notebook. <br />On GitHub, the HTML representation is unable to render, please try loading this page with nbviewer.org.</b></div><div class=\"sk-container\" hidden><div class=\"sk-item\"><div class=\"sk-estimator sk-toggleable\"><input class=\"sk-toggleable__control sk-hidden--visually\" id=\"sk-estimator-id-1\" type=\"checkbox\" checked><label for=\"sk-estimator-id-1\" class=\"sk-toggleable__label sk-toggleable__label-arrow\">LinearRegression</label><div class=\"sk-toggleable__content\"><pre>LinearRegression()</pre></div></div></div></div></div>"
     },
     "metadata": {}
    }
   ],
   "execution_count": 4
  },
  {
   "cell_type": "code",
   "source": "reg.predict(x)",
   "metadata": {
    "cell_id": "fb1eb6ee8bc54232aba3d4711f1e8cb6",
    "tags": [],
    "deepnote_to_be_reexecuted": false,
    "source_hash": "14306670",
    "execution_start": 1657898776189,
    "execution_millis": 291,
    "deepnote_cell_type": "code",
    "deepnote_cell_height": 137.375,
    "deepnote_output_heights": [
     40.375
    ]
   },
   "outputs": [
    {
     "output_type": "execute_result",
     "execution_count": 7,
     "data": {
      "text/plain": "array([2529.70030004, 3746.82938341, 4817.65836227, 5517.62465024,\n       6611.96102889, 6776.51282743, 5799.71344773])"
     },
     "metadata": {}
    }
   ],
   "execution_count": 7
  },
  {
   "cell_type": "code",
   "source": "#score\nreg.score(x,y)",
   "metadata": {
    "cell_id": "6324c33ba93841d2a7afb4566108c376",
    "tags": [],
    "deepnote_to_be_reexecuted": false,
    "source_hash": "d17d4edd",
    "execution_start": 1657898783997,
    "execution_millis": 2,
    "deepnote_cell_type": "code",
    "deepnote_cell_height": 136.171875,
    "deepnote_output_heights": [
     21.1875
    ]
   },
   "outputs": [
    {
     "output_type": "execute_result",
     "execution_count": 8,
     "data": {
      "text/plain": "0.8229225226886638"
     },
     "metadata": {}
    }
   ],
   "execution_count": 8
  },
  {
   "cell_type": "code",
   "source": "#intercept\nreg.intercept_",
   "metadata": {
    "cell_id": "6370d4d93c4343679c89d09ca3d92827",
    "tags": [],
    "deepnote_to_be_reexecuted": false,
    "source_hash": "1661cbe7",
    "execution_start": 1657898791801,
    "execution_millis": 27,
    "deepnote_cell_type": "code",
    "deepnote_cell_height": 136.171875,
    "deepnote_output_heights": [
     21.1875
    ]
   },
   "outputs": [
    {
     "output_type": "execute_result",
     "execution_count": 9,
     "data": {
      "text/plain": "-609.7798604321924"
     },
     "metadata": {}
    }
   ],
   "execution_count": 9
  },
  {
   "cell_type": "code",
   "source": "#coefficient\nreg.coef_",
   "metadata": {
    "cell_id": "fdd43271d09447f889625f888c6e13d0",
    "tags": [],
    "deepnote_to_be_reexecuted": false,
    "source_hash": "c0bd65f9",
    "execution_start": 1657898797940,
    "execution_millis": 89,
    "deepnote_cell_type": "code",
    "deepnote_cell_height": 136.171875,
    "deepnote_output_heights": [
     21.1875
    ]
   },
   "outputs": [
    {
     "output_type": "execute_result",
     "execution_count": 10,
     "data": {
      "text/plain": "array([ 23.50739979, 511.90708964])"
     },
     "metadata": {}
    }
   ],
   "execution_count": 10
  },
  {
   "cell_type": "code",
   "source": "km = int(input(\"Enter the distance: \"))\ndays = int(input(\"Enter the number of days you're going to stay: \"))\nprice = reg.predict([[km,days]])\nprint(\"You will need\",price, \"for the trip\")",
   "metadata": {
    "cell_id": "f953bcfafc854a1b81bc7e9ff5fab265",
    "tags": [],
    "deepnote_to_be_reexecuted": false,
    "source_hash": "52c1f998",
    "execution_start": 1657899353126,
    "execution_millis": 6098,
    "deepnote_cell_type": "code",
    "deepnote_cell_height": 325
   },
   "outputs": [
    {
     "name": "stdout",
     "text": "You will need [6348.12392543] for the trip\n",
     "output_type": "stream"
    }
   ],
   "execution_count": 18
  },
  {
   "cell_type": "markdown",
   "source": "<a style='text-decoration:none;line-height:16px;display:flex;color:#5B5B62;padding:10px;justify-content:end;' href='https://deepnote.com?utm_source=created-in-deepnote-cell&projectId=3452ee6e-511b-4e1a-ad9b-4888eba84525' target=\"_blank\">\n<img alt='Created in deepnote.com' style='display:inline;max-height:16px;margin:0px;margin-right:7.5px;' src='data:image/svg+xml;base64,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' > </img>\nCreated in <span style='font-weight:600;margin-left:4px;'>Deepnote</span></a>",
   "metadata": {
    "tags": [],
    "created_in_deepnote_cell": true,
    "deepnote_cell_type": "markdown"
   }
  }
 ],
 "nbformat": 4,
 "nbformat_minor": 2,
 "metadata": {
  "orig_nbformat": 2,
  "deepnote": {},
  "deepnote_notebook_id": "6a2ba295-7d12-47e3-bdf6-a4f8cb69018d",
  "deepnote_execution_queue": []
 }
}