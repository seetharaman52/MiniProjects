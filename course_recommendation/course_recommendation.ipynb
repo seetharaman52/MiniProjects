{
 "cells": [
  {
   "cell_type": "code",
   "execution_count": 1,
   "metadata": {
    "id": "QQe3iyy2uv1u"
   },
   "outputs": [],
   "source": [
    "import numpy as np\n",
    "import pandas as pd\n",
    "from sklearn.metrics.pairwise import cosine_similarity\n",
    "from sklearn.feature_extraction.text import CountVectorizer"
   ]
  },
  {
   "cell_type": "code",
   "execution_count": 2,
   "metadata": {
    "colab": {
     "base_uri": "https://localhost:8080/",
     "height": 206
    },
    "id": "lZI-ipQLwGZ-",
    "outputId": "41ebce8a-a27e-450c-8d02-483844d002f8"
   },
   "outputs": [
    {
     "data": {
      "text/html": [
       "<div>\n",
       "<style scoped>\n",
       "    .dataframe tbody tr th:only-of-type {\n",
       "        vertical-align: middle;\n",
       "    }\n",
       "\n",
       "    .dataframe tbody tr th {\n",
       "        vertical-align: top;\n",
       "    }\n",
       "\n",
       "    .dataframe thead th {\n",
       "        text-align: right;\n",
       "    }\n",
       "</style>\n",
       "<table border=\"1\" class=\"dataframe\">\n",
       "  <thead>\n",
       "    <tr style=\"text-align: right;\">\n",
       "      <th></th>\n",
       "      <th>id</th>\n",
       "      <th>orientation</th>\n",
       "      <th>degree</th>\n",
       "      <th>cn</th>\n",
       "      <th>c_id</th>\n",
       "    </tr>\n",
       "  </thead>\n",
       "  <tbody>\n",
       "    <tr>\n",
       "      <th>0</th>\n",
       "      <td>1</td>\n",
       "      <td>engineering</td>\n",
       "      <td>aerospace Engineering</td>\n",
       "      <td>Aircraft Stability and Control</td>\n",
       "      <td>1</td>\n",
       "    </tr>\n",
       "    <tr>\n",
       "      <th>1</th>\n",
       "      <td>2</td>\n",
       "      <td>engineering</td>\n",
       "      <td>aerospace Engineering</td>\n",
       "      <td>Introduction to Airplane performance</td>\n",
       "      <td>2</td>\n",
       "    </tr>\n",
       "    <tr>\n",
       "      <th>2</th>\n",
       "      <td>3</td>\n",
       "      <td>engineering</td>\n",
       "      <td>aerospace Engineering</td>\n",
       "      <td>Introduction to Airbreathing Propulsion</td>\n",
       "      <td>3</td>\n",
       "    </tr>\n",
       "    <tr>\n",
       "      <th>3</th>\n",
       "      <td>4</td>\n",
       "      <td>engineering</td>\n",
       "      <td>aerospace Engineering</td>\n",
       "      <td>Introduction to Aerospace Engineering-Flight</td>\n",
       "      <td>4</td>\n",
       "    </tr>\n",
       "    <tr>\n",
       "      <th>4</th>\n",
       "      <td>5</td>\n",
       "      <td>engineering</td>\n",
       "      <td>aerospace Engineering</td>\n",
       "      <td>Introduction to Aircraft Design</td>\n",
       "      <td>5</td>\n",
       "    </tr>\n",
       "  </tbody>\n",
       "</table>\n",
       "</div>"
      ],
      "text/plain": [
       "   id  orientation                 degree  \\\n",
       "0   1  engineering  aerospace Engineering   \n",
       "1   2  engineering  aerospace Engineering   \n",
       "2   3  engineering  aerospace Engineering   \n",
       "3   4  engineering  aerospace Engineering   \n",
       "4   5  engineering  aerospace Engineering   \n",
       "\n",
       "                                             cn  c_id  \n",
       "0                Aircraft Stability and Control     1  \n",
       "1          Introduction to Airplane performance     2  \n",
       "2       Introduction to Airbreathing Propulsion     3  \n",
       "3  Introduction to Aerospace Engineering-Flight     4  \n",
       "4               Introduction to Aircraft Design     5  "
      ]
     },
     "execution_count": 2,
     "metadata": {},
     "output_type": "execute_result"
    }
   ],
   "source": [
    "df = pd.read_csv(\"course.csv\")\n",
    "df.head()"
   ]
  },
  {
   "cell_type": "code",
   "execution_count": 3,
   "metadata": {
    "colab": {
     "base_uri": "https://localhost:8080/"
    },
    "id": "Of7SAdurzzqO",
    "outputId": "db8dc191-390d-4583-a6ca-e754ba6dc53b"
   },
   "outputs": [
    {
     "data": {
      "text/plain": [
       "(60, 5)"
      ]
     },
     "execution_count": 3,
     "metadata": {},
     "output_type": "execute_result"
    }
   ],
   "source": [
    "columns = ['orientation', 'degree', 'c_id', 'cn']\n",
    "df.shape"
   ]
  },
  {
   "cell_type": "code",
   "execution_count": 9,
   "metadata": {
    "id": "9a0uao4vz8OL"
   },
   "outputs": [],
   "source": [
    "def combined_features(data):\n",
    "  features = []\n",
    "  for i in range(0, df.shape[0]):\n",
    "    features.append(df['cn'][i] + ' ' + df['degree'][i] + ' ' + df['orientation'][i])\n",
    "\n",
    "  return features"
   ]
  },
  {
   "cell_type": "code",
   "execution_count": 10,
   "metadata": {
    "colab": {
     "base_uri": "https://localhost:8080/"
    },
    "id": "yA3jpbBT1t__",
    "outputId": "91577c3a-7799-4925-f1ad-a66dce07cf11"
   },
   "outputs": [
    {
     "data": {
      "text/plain": [
       "id              int64\n",
       "orientation    object\n",
       "degree         object\n",
       "cn             object\n",
       "c_id            int64\n",
       "dtype: object"
      ]
     },
     "execution_count": 10,
     "metadata": {},
     "output_type": "execute_result"
    }
   ],
   "source": [
    "df.dtypes"
   ]
  },
  {
   "cell_type": "code",
   "execution_count": 11,
   "metadata": {
    "colab": {
     "base_uri": "https://localhost:8080/",
     "height": 206
    },
    "id": "oXlwz2rP3rvn",
    "outputId": "5503ffc3-1551-4c24-93d7-dd41ae49a461"
   },
   "outputs": [
    {
     "data": {
      "text/html": [
       "<div>\n",
       "<style scoped>\n",
       "    .dataframe tbody tr th:only-of-type {\n",
       "        vertical-align: middle;\n",
       "    }\n",
       "\n",
       "    .dataframe tbody tr th {\n",
       "        vertical-align: top;\n",
       "    }\n",
       "\n",
       "    .dataframe thead th {\n",
       "        text-align: right;\n",
       "    }\n",
       "</style>\n",
       "<table border=\"1\" class=\"dataframe\">\n",
       "  <thead>\n",
       "    <tr style=\"text-align: right;\">\n",
       "      <th></th>\n",
       "      <th>id</th>\n",
       "      <th>orientation</th>\n",
       "      <th>degree</th>\n",
       "      <th>cn</th>\n",
       "      <th>c_id</th>\n",
       "    </tr>\n",
       "  </thead>\n",
       "  <tbody>\n",
       "    <tr>\n",
       "      <th>0</th>\n",
       "      <td>1</td>\n",
       "      <td>engineering</td>\n",
       "      <td>aerospace Engineering</td>\n",
       "      <td>Aircraft Stability and Control</td>\n",
       "      <td>1</td>\n",
       "    </tr>\n",
       "    <tr>\n",
       "      <th>1</th>\n",
       "      <td>2</td>\n",
       "      <td>engineering</td>\n",
       "      <td>aerospace Engineering</td>\n",
       "      <td>Introduction to Airplane performance</td>\n",
       "      <td>2</td>\n",
       "    </tr>\n",
       "    <tr>\n",
       "      <th>2</th>\n",
       "      <td>3</td>\n",
       "      <td>engineering</td>\n",
       "      <td>aerospace Engineering</td>\n",
       "      <td>Introduction to Airbreathing Propulsion</td>\n",
       "      <td>3</td>\n",
       "    </tr>\n",
       "    <tr>\n",
       "      <th>3</th>\n",
       "      <td>4</td>\n",
       "      <td>engineering</td>\n",
       "      <td>aerospace Engineering</td>\n",
       "      <td>Introduction to Aerospace Engineering-Flight</td>\n",
       "      <td>4</td>\n",
       "    </tr>\n",
       "    <tr>\n",
       "      <th>4</th>\n",
       "      <td>5</td>\n",
       "      <td>engineering</td>\n",
       "      <td>aerospace Engineering</td>\n",
       "      <td>Introduction to Aircraft Design</td>\n",
       "      <td>5</td>\n",
       "    </tr>\n",
       "  </tbody>\n",
       "</table>\n",
       "</div>"
      ],
      "text/plain": [
       "   id  orientation                 degree  \\\n",
       "0   1  engineering  aerospace Engineering   \n",
       "1   2  engineering  aerospace Engineering   \n",
       "2   3  engineering  aerospace Engineering   \n",
       "3   4  engineering  aerospace Engineering   \n",
       "4   5  engineering  aerospace Engineering   \n",
       "\n",
       "                                             cn  c_id  \n",
       "0                Aircraft Stability and Control     1  \n",
       "1          Introduction to Airplane performance     2  \n",
       "2       Introduction to Airbreathing Propulsion     3  \n",
       "3  Introduction to Aerospace Engineering-Flight     4  \n",
       "4               Introduction to Aircraft Design     5  "
      ]
     },
     "execution_count": 11,
     "metadata": {},
     "output_type": "execute_result"
    }
   ],
   "source": [
    "df.head()"
   ]
  },
  {
   "cell_type": "code",
   "execution_count": 12,
   "metadata": {
    "id": "jnt8l36p2XQL"
   },
   "outputs": [],
   "source": [
    "#df = df.drop(\"Selling Price\",axis = 'columns')"
   ]
  },
  {
   "cell_type": "code",
   "execution_count": 13,
   "metadata": {
    "colab": {
     "base_uri": "https://localhost:8080/"
    },
    "id": "7ux1y-LQUGps",
    "outputId": "657a248b-7a47-4535-c369-ad302bf2319a"
   },
   "outputs": [
    {
     "data": {
      "text/plain": [
       "id             0\n",
       "orientation    0\n",
       "degree         0\n",
       "cn             0\n",
       "c_id           0\n",
       "dtype: int64"
      ]
     },
     "execution_count": 13,
     "metadata": {},
     "output_type": "execute_result"
    }
   ],
   "source": [
    "df.isnull().sum()"
   ]
  },
  {
   "cell_type": "code",
   "execution_count": 14,
   "metadata": {
    "id": "Oqq_K5b82yKb"
   },
   "outputs": [],
   "source": [
    "df['combined_features'] = combined_features(df)"
   ]
  },
  {
   "cell_type": "code",
   "execution_count": 15,
   "metadata": {
    "id": "1oyFMvM6VHC5"
   },
   "outputs": [],
   "source": [
    "from sklearn.feature_extraction.text import CountVectorizer\n",
    "from sklearn.feature_extraction.text import TfidfVectorizer\n",
    "vectorizer = TfidfVectorizer()"
   ]
  },
  {
   "cell_type": "code",
   "execution_count": 16,
   "metadata": {
    "id": "BPiZ3BmGWJNi"
   },
   "outputs": [],
   "source": [
    "cm = vectorizer.fit_transform(df['combined_features'])"
   ]
  },
  {
   "cell_type": "code",
   "execution_count": 17,
   "metadata": {
    "id": "vCMQ3S_hXAhF"
   },
   "outputs": [],
   "source": [
    "cs = cosine_similarity(cm)"
   ]
  },
  {
   "cell_type": "code",
   "execution_count": 18,
   "metadata": {
    "colab": {
     "base_uri": "https://localhost:8080/",
     "height": 35
    },
    "id": "OiLdHcoDXNS6",
    "outputId": "ce09352c-c098-4bf3-ebec-17fc26123ab4"
   },
   "outputs": [
    {
     "data": {
      "text/plain": [
       "'agricultural Engineering'"
      ]
     },
     "execution_count": 18,
     "metadata": {},
     "output_type": "execute_result"
    }
   ],
   "source": [
    "degree = df['degree'][9]\n",
    "degree"
   ]
  },
  {
   "cell_type": "code",
   "execution_count": 24,
   "metadata": {
    "colab": {
     "base_uri": "https://localhost:8080/",
     "height": 81
    },
    "id": "eYK45GELbIKv",
    "outputId": "d15c4985-1371-44d8-8a72-b1b8feae1004"
   },
   "outputs": [
    {
     "data": {
      "text/html": [
       "<div>\n",
       "<style scoped>\n",
       "    .dataframe tbody tr th:only-of-type {\n",
       "        vertical-align: middle;\n",
       "    }\n",
       "\n",
       "    .dataframe tbody tr th {\n",
       "        vertical-align: top;\n",
       "    }\n",
       "\n",
       "    .dataframe thead th {\n",
       "        text-align: right;\n",
       "    }\n",
       "</style>\n",
       "<table border=\"1\" class=\"dataframe\">\n",
       "  <thead>\n",
       "    <tr style=\"text-align: right;\">\n",
       "      <th></th>\n",
       "      <th>id</th>\n",
       "      <th>orientation</th>\n",
       "      <th>degree</th>\n",
       "      <th>cn</th>\n",
       "      <th>c_id</th>\n",
       "      <th>combined_features</th>\n",
       "    </tr>\n",
       "  </thead>\n",
       "  <tbody>\n",
       "    <tr>\n",
       "      <th>6</th>\n",
       "      <td>7</td>\n",
       "      <td>engineering</td>\n",
       "      <td>agricultural Engineering</td>\n",
       "      <td>Dairy And Food Process And Products Technology</td>\n",
       "      <td>7</td>\n",
       "      <td>Dairy And Food Process And Products Technology...</td>\n",
       "    </tr>\n",
       "    <tr>\n",
       "      <th>7</th>\n",
       "      <td>8</td>\n",
       "      <td>engineering</td>\n",
       "      <td>agricultural Engineering</td>\n",
       "      <td>Farm Machinery</td>\n",
       "      <td>8</td>\n",
       "      <td>Farm Machinery agricultural Engineering engine...</td>\n",
       "    </tr>\n",
       "    <tr>\n",
       "      <th>8</th>\n",
       "      <td>9</td>\n",
       "      <td>engineering</td>\n",
       "      <td>agricultural Engineering</td>\n",
       "      <td>Fundamentals Of Food Process Engineering</td>\n",
       "      <td>9</td>\n",
       "      <td>Fundamentals Of Food Process Engineering agric...</td>\n",
       "    </tr>\n",
       "    <tr>\n",
       "      <th>9</th>\n",
       "      <td>10</td>\n",
       "      <td>engineering</td>\n",
       "      <td>agricultural Engineering</td>\n",
       "      <td>Organic Farming For Sustainable Agricultural P...</td>\n",
       "      <td>10</td>\n",
       "      <td>Organic Farming For Sustainable Agricultural P...</td>\n",
       "    </tr>\n",
       "    <tr>\n",
       "      <th>10</th>\n",
       "      <td>11</td>\n",
       "      <td>engineering</td>\n",
       "      <td>agricultural Engineering</td>\n",
       "      <td>Natural Resources Management</td>\n",
       "      <td>11</td>\n",
       "      <td>Natural Resources Management agricultural Engi...</td>\n",
       "    </tr>\n",
       "    <tr>\n",
       "      <th>11</th>\n",
       "      <td>12</td>\n",
       "      <td>engineering</td>\n",
       "      <td>agricultural Engineering</td>\n",
       "      <td>Micro Irrigation Engineering</td>\n",
       "      <td>12</td>\n",
       "      <td>Micro Irrigation Engineering agricultural Engi...</td>\n",
       "    </tr>\n",
       "  </tbody>\n",
       "</table>\n",
       "</div>"
      ],
      "text/plain": [
       "    id  orientation                    degree  \\\n",
       "6    7  engineering  agricultural Engineering   \n",
       "7    8  engineering  agricultural Engineering   \n",
       "8    9  engineering  agricultural Engineering   \n",
       "9   10  engineering  agricultural Engineering   \n",
       "10  11  engineering  agricultural Engineering   \n",
       "11  12  engineering  agricultural Engineering   \n",
       "\n",
       "                                                   cn  c_id  \\\n",
       "6      Dairy And Food Process And Products Technology     7   \n",
       "7                                      Farm Machinery     8   \n",
       "8            Fundamentals Of Food Process Engineering     9   \n",
       "9   Organic Farming For Sustainable Agricultural P...    10   \n",
       "10                       Natural Resources Management    11   \n",
       "11                       Micro Irrigation Engineering    12   \n",
       "\n",
       "                                    combined_features  \n",
       "6   Dairy And Food Process And Products Technology...  \n",
       "7   Farm Machinery agricultural Engineering engine...  \n",
       "8   Fundamentals Of Food Process Engineering agric...  \n",
       "9   Organic Farming For Sustainable Agricultural P...  \n",
       "10  Natural Resources Management agricultural Engi...  \n",
       "11  Micro Irrigation Engineering agricultural Engi...  "
      ]
     },
     "execution_count": 24,
     "metadata": {},
     "output_type": "execute_result"
    }
   ],
   "source": [
    "df[df.degree == degree]"
   ]
  },
  {
   "cell_type": "code",
   "execution_count": 19,
   "metadata": {
    "colab": {
     "base_uri": "https://localhost:8080/"
    },
    "id": "GOiRO-Q-XYsP",
    "outputId": "7ef56c2f-fceb-4005-cec9-f0c78542b2c6"
   },
   "outputs": [
    {
     "data": {
      "text/plain": [
       "7"
      ]
     },
     "execution_count": 19,
     "metadata": {},
     "output_type": "execute_result"
    }
   ],
   "source": [
    "c_id = df[df.degree == degree]['c_id'].values[0]\n",
    "c_id"
   ]
  },
  {
   "cell_type": "code",
   "execution_count": 20,
   "metadata": {
    "id": "h7UeVbqiX2sO"
   },
   "outputs": [],
   "source": [
    "scores = list(enumerate(cs[c_id]))\n",
    "#scores"
   ]
  },
  {
   "cell_type": "code",
   "execution_count": 21,
   "metadata": {
    "id": "hrDVWuKVY5JY"
   },
   "outputs": [],
   "source": [
    "sorted_scores = sorted(scores, key = lambda x:x[1], reverse = True)\n",
    "sorted_scores = sorted_scores[1:]\n",
    "#sorted_scores"
   ]
  },
  {
   "cell_type": "code",
   "execution_count": 22,
   "metadata": {},
   "outputs": [
    {
     "data": {
      "text/html": [
       "<div>\n",
       "<style scoped>\n",
       "    .dataframe tbody tr th:only-of-type {\n",
       "        vertical-align: middle;\n",
       "    }\n",
       "\n",
       "    .dataframe tbody tr th {\n",
       "        vertical-align: top;\n",
       "    }\n",
       "\n",
       "    .dataframe thead th {\n",
       "        text-align: right;\n",
       "    }\n",
       "</style>\n",
       "<table border=\"1\" class=\"dataframe\">\n",
       "  <thead>\n",
       "    <tr style=\"text-align: right;\">\n",
       "      <th></th>\n",
       "      <th>id</th>\n",
       "      <th>orientation</th>\n",
       "      <th>degree</th>\n",
       "      <th>cn</th>\n",
       "      <th>c_id</th>\n",
       "      <th>combined_features</th>\n",
       "    </tr>\n",
       "  </thead>\n",
       "  <tbody>\n",
       "    <tr>\n",
       "      <th>0</th>\n",
       "      <td>1</td>\n",
       "      <td>engineering</td>\n",
       "      <td>aerospace Engineering</td>\n",
       "      <td>Aircraft Stability and Control</td>\n",
       "      <td>1</td>\n",
       "      <td>Aircraft Stability and Control aerospace Engin...</td>\n",
       "    </tr>\n",
       "    <tr>\n",
       "      <th>1</th>\n",
       "      <td>2</td>\n",
       "      <td>engineering</td>\n",
       "      <td>aerospace Engineering</td>\n",
       "      <td>Introduction to Airplane performance</td>\n",
       "      <td>2</td>\n",
       "      <td>Introduction to Airplane performance aerospace...</td>\n",
       "    </tr>\n",
       "    <tr>\n",
       "      <th>2</th>\n",
       "      <td>3</td>\n",
       "      <td>engineering</td>\n",
       "      <td>aerospace Engineering</td>\n",
       "      <td>Introduction to Airbreathing Propulsion</td>\n",
       "      <td>3</td>\n",
       "      <td>Introduction to Airbreathing Propulsion aerosp...</td>\n",
       "    </tr>\n",
       "    <tr>\n",
       "      <th>3</th>\n",
       "      <td>4</td>\n",
       "      <td>engineering</td>\n",
       "      <td>aerospace Engineering</td>\n",
       "      <td>Introduction to Aerospace Engineering-Flight</td>\n",
       "      <td>4</td>\n",
       "      <td>Introduction to Aerospace Engineering-Flight a...</td>\n",
       "    </tr>\n",
       "    <tr>\n",
       "      <th>4</th>\n",
       "      <td>5</td>\n",
       "      <td>engineering</td>\n",
       "      <td>aerospace Engineering</td>\n",
       "      <td>Introduction to Aircraft Design</td>\n",
       "      <td>5</td>\n",
       "      <td>Introduction to Aircraft Design aerospace Engi...</td>\n",
       "    </tr>\n",
       "  </tbody>\n",
       "</table>\n",
       "</div>"
      ],
      "text/plain": [
       "   id  orientation                 degree  \\\n",
       "0   1  engineering  aerospace Engineering   \n",
       "1   2  engineering  aerospace Engineering   \n",
       "2   3  engineering  aerospace Engineering   \n",
       "3   4  engineering  aerospace Engineering   \n",
       "4   5  engineering  aerospace Engineering   \n",
       "\n",
       "                                             cn  c_id  \\\n",
       "0                Aircraft Stability and Control     1   \n",
       "1          Introduction to Airplane performance     2   \n",
       "2       Introduction to Airbreathing Propulsion     3   \n",
       "3  Introduction to Aerospace Engineering-Flight     4   \n",
       "4               Introduction to Aircraft Design     5   \n",
       "\n",
       "                                   combined_features  \n",
       "0  Aircraft Stability and Control aerospace Engin...  \n",
       "1  Introduction to Airplane performance aerospace...  \n",
       "2  Introduction to Airbreathing Propulsion aerosp...  \n",
       "3  Introduction to Aerospace Engineering-Flight a...  \n",
       "4  Introduction to Aircraft Design aerospace Engi...  "
      ]
     },
     "execution_count": 22,
     "metadata": {},
     "output_type": "execute_result"
    }
   ],
   "source": [
    "df.head()"
   ]
  },
  {
   "cell_type": "code",
   "execution_count": 25,
   "metadata": {
    "colab": {
     "base_uri": "https://localhost:8080/"
    },
    "id": "9tFHLLj9YoxD",
    "outputId": "f5a054b7-1554-4fc2-8338-3d889c1bcdd8"
   },
   "outputs": [
    {
     "name": "stdout",
     "output_type": "stream",
     "text": [
      "The recommended courses are:\n",
      "1 Natural Resources Management\n",
      "2 Farm Machinery\n",
      "3 Fundamentals Of Food Process Engineering\n",
      "4 Organic Farming For Sustainable Agricultural Production\n",
      "5 Design of fixed wing Unmanned Aerial Vehicles\n"
     ]
    }
   ],
   "source": [
    "j = 0\n",
    "print(\"The recommended courses are:\")\n",
    "for i in sorted_scores:\n",
    "  cn = df[df.c_id == i[0]]['cn'].values[0]\n",
    "  print(j+1, cn)\n",
    "  j = j+1\n",
    "  if j >= 5:\n",
    "    break"
   ]
  },
  {
   "cell_type": "code",
   "execution_count": 300,
   "metadata": {},
   "outputs": [],
   "source": [
    "#df[df.degree == degree]['cn']"
   ]
  }
 ],
 "metadata": {
  "colab": {
   "name": "Book recommendation.ipynb",
   "provenance": []
  },
  "kernelspec": {
   "display_name": "Python 3 (ipykernel)",
   "language": "python",
   "name": "python3"
  },
  "language_info": {
   "codemirror_mode": {
    "name": "ipython",
    "version": 3
   },
   "file_extension": ".py",
   "mimetype": "text/x-python",
   "name": "python",
   "nbconvert_exporter": "python",
   "pygments_lexer": "ipython3",
   "version": "3.9.12"
  }
 },
 "nbformat": 4,
 "nbformat_minor": 1
}
